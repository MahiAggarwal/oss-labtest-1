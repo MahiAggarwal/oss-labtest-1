{
 "cells": [
  {
   "cell_type": "code",
   "execution_count": null,
   "metadata": {},
   "outputs": [],
   "source": [
    "import numpy as np\n",
    "flight_schedule=np.array([(1,\"mumbai\",\"bangalore\",\"3:00pm\",12,14),(2,\"mumbai\",\"bangalore\",\"3:00pm\",12,14),(3,\"mumbai\",\"bangalore\",\"3:00pm\",12,14),(4,\"mumbai\",\"bangalore\",\"3:00pm\",12,14)])\n",
    "print(flight_schedule)"
   ]
  },
  {
   "cell_type": "code",
   "execution_count": null,
   "metadata": {},
   "outputs": [],
   "source": [
    "passenger_records=np.array([(1,\"mahi\",[1,\"12e\"],[2,\"6b\"]),(2,\"mahi\",[1,\"1b\"],[2,\"6e\"]),(3,\"mahi\",[1,\"17b\"],[2,\"23e\"])])\n",
    "print(passenger_records)\n"
   ]
  },
  {
   "cell_type": "code",
   "execution_count": null,
   "metadata": {},
   "outputs": [],
   "source": [
    "def findres(pid):\n",
    "    for i in passenger_records:\n",
    "        if passenger_records[i][0]==pid:\n",
    "            ans.append(passenger_records[i][2][0])\n",
    "            ans.append(passenger_records[i][3][0])"
   ]
  },
  {
   "cell_type": "code",
   "execution_count": null,
   "metadata": {},
   "outputs": [],
   "source": [
    "ans=[]\n",
    "findres(1)\n",
    "print(ans)"
   ]
  },
  {
   "cell_type": "code",
   "execution_count": null,
   "metadata": {},
   "outputs": [],
   "source": [
    "fid=int(input(\"enter the flight no.: \"))\n",
    "updb=int(input(\"enter updated no. of seats in business class: \"))\n",
    "upde=int(input(\"enter updated no. of seats in economic class: \"))"
   ]
  },
  {
   "cell_type": "code",
   "execution_count": null,
   "metadata": {},
   "outputs": [],
   "source": [
    "for i in flight_schedule:\n",
    "    if flight_schedule[i][0]==fid:\n",
    "        flight_schedule[i][4]=updb\n",
    "        flight_schedule[i][5]=upde\n",
    "print(flight_schedule[i])"
   ]
  },
  {
   "cell_type": "code",
   "execution_count": null,
   "metadata": {},
   "outputs": [],
   "source": [
    "i=0\n",
    "seats={}\n",
    "while(i<len(flight_schedule)):\n",
    "    seats[i]=(flight_schedule[i][4]+flight_schedule[i][5]) \n",
    "print(seats)"
   ]
  },
  {
   "cell_type": "code",
   "execution_count": null,
   "metadata": {},
   "outputs": [],
   "source": [
    "seats.sorted(key=value)"
   ]
  },
  {
   "cell_type": "code",
   "execution_count": null,
   "metadata": {},
   "outputs": [],
   "source": [
    "mini=sorted[0]\n",
    "maxi=sorted[len(flight_schedule)-1]\n",
    "total=int(input(\"total number of seats: \"))\n",
    "if seats[i]==total:\n",
    "    print(flight_schedule[i][0],\"has no seat left\")\n",
    "    \n",
    "if seats[i]==mini:\n",
    "    print(flight_schedule[i][1],flight_schedule[i][2])\n",
    "    \n",
    "if seats[i]==maxi:\n",
    "    print(flight_schedule[i][1],flight_schedule[i][2])"
   ]
  }
 ],
 "metadata": {
  "kernelspec": {
   "display_name": "Python 3",
   "language": "python",
   "name": "python3"
  },
  "language_info": {
   "codemirror_mode": {
    "name": "ipython",
    "version": 3
   },
   "file_extension": ".py",
   "mimetype": "text/x-python",
   "name": "python",
   "nbconvert_exporter": "python",
   "pygments_lexer": "ipython3",
   "version": "3.7.3"
  }
 },
 "nbformat": 4,
 "nbformat_minor": 2
}
